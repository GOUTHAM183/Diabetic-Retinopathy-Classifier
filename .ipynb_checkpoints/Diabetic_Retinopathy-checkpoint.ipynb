{
 "cells": [
  {
   "cell_type": "code",
   "execution_count": 1,
   "id": "25b7147f",
   "metadata": {},
   "outputs": [
    {
     "name": "stderr",
     "output_type": "stream",
     "text": [
      "C:\\ProgramData\\Anaconda3\\lib\\site-packages\\numpy\\_distributor_init.py:30: UserWarning: loaded more than 1 DLL from .libs:\n",
      "C:\\ProgramData\\Anaconda3\\lib\\site-packages\\numpy\\.libs\\libopenblas.EL2C6PLE4ZYW3ECEVIV3OXXGRN2NRFM2.gfortran-win_amd64.dll\n",
      "C:\\ProgramData\\Anaconda3\\lib\\site-packages\\numpy\\.libs\\libopenblas.WCDJNK7YVMPZQ2ME2ZZHJJRJ3JIKNDB7.gfortran-win_amd64.dll\n",
      "  warnings.warn(\"loaded more than 1 DLL from .libs:\"\n"
     ]
    },
    {
     "name": "stdout",
     "output_type": "stream",
     "text": [
      "Found 2076 images belonging to 2 classes.\n",
      "Found 531 images belonging to 2 classes.\n",
      "Found 231 images belonging to 2 classes.\n"
     ]
    }
   ],
   "source": [
    "import tensorflow as tf\n",
    "from tensorflow.keras.preprocessing.image import ImageDataGenerator\n",
    "\n",
    "# Define paths\n",
    "train_dir = 'data/train'\n",
    "valid_dir = 'data/valid'\n",
    "test_dir = 'data/test'\n",
    "\n",
    "# Data augmentation and normalization\n",
    "train_datagen = ImageDataGenerator(\n",
    "    rescale=1./255,\n",
    "    rotation_range=20,\n",
    "    width_shift_range=0.2,\n",
    "    height_shift_range=0.2,\n",
    "    shear_range=0.2,\n",
    "    zoom_range=0.2,\n",
    "    horizontal_flip=True,\n",
    "    fill_mode='nearest'\n",
    ")\n",
    "\n",
    "valid_datagen = ImageDataGenerator(rescale=1./255)\n",
    "test_datagen = ImageDataGenerator(rescale=1./255)\n",
    "\n",
    "# Create data generators\n",
    "train_generator = train_datagen.flow_from_directory(\n",
    "    train_dir,\n",
    "    target_size=(150, 150),\n",
    "    batch_size=32,\n",
    "    class_mode='binary'\n",
    ")\n",
    "\n",
    "valid_generator = valid_datagen.flow_from_directory(\n",
    "    valid_dir,\n",
    "    target_size=(150, 150),\n",
    "    batch_size=32,\n",
    "    class_mode='binary'\n",
    ")\n",
    "\n",
    "test_generator = test_datagen.flow_from_directory(\n",
    "    test_dir,\n",
    "    target_size=(150, 150),\n",
    "    batch_size=32,\n",
    "    class_mode='binary'\n",
    ")\n"
   ]
  },
  {
   "cell_type": "code",
   "execution_count": 2,
   "id": "f1d18953",
   "metadata": {},
   "outputs": [],
   "source": [
    "from tensorflow.keras.models import Sequential\n",
    "from tensorflow.keras.layers import Conv2D, MaxPooling2D, Flatten, Dense, Dropout\n",
    "\n",
    "model = Sequential([\n",
    "    Conv2D(32, (3, 3), activation='relu', input_shape=(150, 150, 3)),\n",
    "    MaxPooling2D(2, 2),\n",
    "    Conv2D(64, (3, 3), activation='relu'),\n",
    "    MaxPooling2D(2, 2),\n",
    "    Conv2D(128, (3, 3), activation='relu'),\n",
    "    MaxPooling2D(2, 2),\n",
    "    Flatten(),\n",
    "    Dense(512, activation='relu'),\n",
    "    Dropout(0.5),\n",
    "    Dense(1, activation='sigmoid')\n",
    "])\n",
    "\n",
    "model.compile(optimizer='adam',\n",
    "              loss='binary_crossentropy',\n",
    "              metrics=['accuracy'])\n"
   ]
  },
  {
   "cell_type": "code",
   "execution_count": 3,
   "id": "81b51b02",
   "metadata": {},
   "outputs": [
    {
     "name": "stdout",
     "output_type": "stream",
     "text": [
      "Epoch 1/30\n",
      "64/64 [==============================] - 91s 1s/step - loss: 0.6005 - accuracy: 0.6962 - val_loss: 0.2795 - val_accuracy: 0.8926\n",
      "Epoch 2/30\n",
      "64/64 [==============================] - 56s 865ms/step - loss: 0.3692 - accuracy: 0.8488 - val_loss: 0.2608 - val_accuracy: 0.9102\n",
      "Epoch 3/30\n",
      "64/64 [==============================] - 49s 764ms/step - loss: 0.2859 - accuracy: 0.8860 - val_loss: 0.2461 - val_accuracy: 0.9180\n",
      "Epoch 4/30\n",
      "64/64 [==============================] - 51s 796ms/step - loss: 0.2834 - accuracy: 0.8924 - val_loss: 0.2617 - val_accuracy: 0.9082\n",
      "Epoch 5/30\n",
      "64/64 [==============================] - 49s 766ms/step - loss: 0.2574 - accuracy: 0.9046 - val_loss: 0.2331 - val_accuracy: 0.9180\n",
      "Epoch 6/30\n",
      "64/64 [==============================] - 49s 764ms/step - loss: 0.2557 - accuracy: 0.9007 - val_loss: 0.2408 - val_accuracy: 0.9043\n",
      "Epoch 7/30\n",
      "64/64 [==============================] - 49s 767ms/step - loss: 0.2615 - accuracy: 0.8987 - val_loss: 0.2611 - val_accuracy: 0.9199\n",
      "Epoch 8/30\n",
      "64/64 [==============================] - 50s 777ms/step - loss: 0.2518 - accuracy: 0.8997 - val_loss: 0.2253 - val_accuracy: 0.9219\n",
      "Epoch 9/30\n",
      "64/64 [==============================] - 48s 744ms/step - loss: 0.2517 - accuracy: 0.9080 - val_loss: 0.2536 - val_accuracy: 0.9141\n",
      "Epoch 10/30\n",
      "64/64 [==============================] - 50s 775ms/step - loss: 0.2669 - accuracy: 0.9031 - val_loss: 0.2118 - val_accuracy: 0.9336\n",
      "Epoch 11/30\n",
      "64/64 [==============================] - 49s 763ms/step - loss: 0.2348 - accuracy: 0.9163 - val_loss: 0.2450 - val_accuracy: 0.9199\n",
      "Epoch 12/30\n",
      "64/64 [==============================] - 48s 746ms/step - loss: 0.2190 - accuracy: 0.9227 - val_loss: 0.2284 - val_accuracy: 0.9277\n",
      "Epoch 13/30\n",
      "64/64 [==============================] - 48s 747ms/step - loss: 0.2198 - accuracy: 0.9207 - val_loss: 0.2185 - val_accuracy: 0.9336\n",
      "Epoch 14/30\n",
      "64/64 [==============================] - 50s 774ms/step - loss: 0.2346 - accuracy: 0.9154 - val_loss: 0.2405 - val_accuracy: 0.9258\n",
      "Epoch 15/30\n",
      "64/64 [==============================] - 48s 755ms/step - loss: 0.2333 - accuracy: 0.9198 - val_loss: 0.2157 - val_accuracy: 0.9336\n",
      "Epoch 16/30\n",
      "64/64 [==============================] - 49s 757ms/step - loss: 0.2217 - accuracy: 0.9188 - val_loss: 0.2102 - val_accuracy: 0.9395\n",
      "Epoch 17/30\n",
      "64/64 [==============================] - 48s 754ms/step - loss: 0.2150 - accuracy: 0.9256 - val_loss: 0.1959 - val_accuracy: 0.9395\n",
      "Epoch 18/30\n",
      "64/64 [==============================] - 49s 758ms/step - loss: 0.2178 - accuracy: 0.9295 - val_loss: 0.2172 - val_accuracy: 0.9375\n",
      "Epoch 19/30\n",
      "64/64 [==============================] - 48s 753ms/step - loss: 0.2290 - accuracy: 0.9232 - val_loss: 0.1923 - val_accuracy: 0.9395\n",
      "Epoch 20/30\n",
      "64/64 [==============================] - 48s 753ms/step - loss: 0.2031 - accuracy: 0.9271 - val_loss: 0.2056 - val_accuracy: 0.9414\n",
      "Epoch 21/30\n",
      "64/64 [==============================] - 49s 761ms/step - loss: 0.2028 - accuracy: 0.9281 - val_loss: 0.2033 - val_accuracy: 0.9316\n",
      "Epoch 22/30\n",
      "64/64 [==============================] - 49s 758ms/step - loss: 0.1908 - accuracy: 0.9349 - val_loss: 0.1752 - val_accuracy: 0.9434\n",
      "Epoch 23/30\n",
      "64/64 [==============================] - 49s 768ms/step - loss: 0.2066 - accuracy: 0.9344 - val_loss: 0.1942 - val_accuracy: 0.9414\n",
      "Epoch 24/30\n",
      "64/64 [==============================] - 49s 756ms/step - loss: 0.2031 - accuracy: 0.9266 - val_loss: 0.1822 - val_accuracy: 0.9414\n",
      "Epoch 25/30\n",
      "64/64 [==============================] - 48s 755ms/step - loss: 0.1857 - accuracy: 0.9320 - val_loss: 0.1795 - val_accuracy: 0.9473\n",
      "Epoch 26/30\n",
      "64/64 [==============================] - 49s 763ms/step - loss: 0.2075 - accuracy: 0.9320 - val_loss: 0.1962 - val_accuracy: 0.9336\n",
      "Epoch 27/30\n",
      "64/64 [==============================] - 48s 755ms/step - loss: 0.1960 - accuracy: 0.9364 - val_loss: 0.2008 - val_accuracy: 0.9316\n",
      "Epoch 28/30\n",
      "64/64 [==============================] - 49s 758ms/step - loss: 0.1894 - accuracy: 0.9428 - val_loss: 0.1763 - val_accuracy: 0.9414\n",
      "Epoch 29/30\n",
      "64/64 [==============================] - 50s 776ms/step - loss: 0.1918 - accuracy: 0.9403 - val_loss: 0.1637 - val_accuracy: 0.9434\n",
      "Epoch 30/30\n",
      "64/64 [==============================] - 49s 770ms/step - loss: 0.1913 - accuracy: 0.9403 - val_loss: 0.1708 - val_accuracy: 0.9414\n"
     ]
    }
   ],
   "source": [
    "history = model.fit(\n",
    "    train_generator,\n",
    "    steps_per_epoch=train_generator.samples // train_generator.batch_size,\n",
    "    epochs=30,\n",
    "    validation_data=valid_generator,\n",
    "    validation_steps=valid_generator.samples // valid_generator.batch_size\n",
    ")\n"
   ]
  },
  {
   "cell_type": "code",
   "execution_count": 4,
   "id": "dfc20541",
   "metadata": {},
   "outputs": [
    {
     "name": "stdout",
     "output_type": "stream",
     "text": [
      "7/7 [==============================] - 4s 636ms/step - loss: 0.1997 - accuracy: 0.9464\n",
      "Test accuracy: 0.95\n"
     ]
    }
   ],
   "source": [
    "test_loss, test_acc = model.evaluate(test_generator, steps=test_generator.samples // test_generator.batch_size)\n",
    "print(f'Test accuracy: {test_acc:.2f}')\n"
   ]
  },
  {
   "cell_type": "code",
   "execution_count": 5,
   "id": "2eeae112",
   "metadata": {},
   "outputs": [
    {
     "data": {
      "image/png": "[encoded data removed]",
      "text/plain": [
       "<Figure size 864x576 with 2 Axes>"
      ]
     },
     "metadata": {
      "needs_background": "light"
     },
     "output_type": "display_data"
    }
   ],
   "source": [
    "import matplotlib.pyplot as plt\n",
    "\n",
    "acc = history.history['accuracy']\n",
    "val_acc = history.history['val_accuracy']\n",
    "loss = history.history['loss']\n",
    "val_loss = history.history['val_loss']\n",
    "\n",
    "epochs = range(len(acc))\n",
    "\n",
    "plt.figure(figsize=(12, 8))\n",
    "plt.subplot(1, 2, 1)\n",
    "plt.plot(epochs, acc, 'bo', label='Training accuracy')\n",
    "plt.plot(epochs, val_acc, 'b', label='Validation accuracy')\n",
    "plt.title('Training and validation accuracy')\n",
    "plt.legend()\n",
    "\n",
    "plt.subplot(1, 2, 2)\n",
    "plt.plot(epochs, loss, 'bo', label='Training loss')\n",
    "plt.plot(epochs, val_loss, 'b', label='Validation loss')\n",
    "plt.title('Training and validation loss')\n",
    "plt.legend()\n",
    "\n",
    "plt.show()\n"
   ]
  },
  {
   "cell_type": "code",
   "execution_count": 6,
   "id": "2aa5079f",
   "metadata": {},
   "outputs": [],
   "source": [
    "model.save('diabetic_retinopathy_classifier.h5')\n"
   ]
  },
  {
   "cell_type": "code",
   "execution_count": 13,
   "id": "35eb1792",
   "metadata": {},
   "outputs": [
    {
     "name": "stdout",
     "output_type": "stream",
     "text": [
      "WARNING:tensorflow:5 out of the last 5 calls to <function Model.make_predict_function.<locals>.predict_function at 0x00000263AEF155E0> triggered tf.function retracing. Tracing is expensive and the excessive number of tracings could be due to (1) creating @tf.function repeatedly in a loop, (2) passing tensors with different shapes, (3) passing Python objects instead of tensors. For (1), please define your @tf.function outside of the loop. For (2), @tf.function has reduce_retracing=True option that can avoid unnecessary retracing. For (3), please refer to https://www.tensorflow.org/guide/function#controlling_retracing and https://www.tensorflow.org/api_docs/python/tf/function for  more details.\n",
      "1/1 [==============================] - 0s 73ms/step\n",
      "Prediction: DR\n"
     ]
    }
   ],
   "source": [
    "from tensorflow.keras.models import load_model\n",
    "import numpy as np\n",
    "from tensorflow.keras.preprocessing import image\n",
    "\n",
    "model = load_model('diabetic_retinopathy_classifier.h5')\n",
    "\n",
    "img_path = 'data/test/No_DR/0daddc45d832_png.rf.8ebf5e03827f9b859246c465ffcfe7f3.jpg'  # replace with your image path\n",
    "img = image.load_img(img_path, target_size=(150, 150))\n",
    "img_array = image.img_to_array(img) / 255.0\n",
    "img_array = np.expand_dims(img_array, axis=0)\n",
    "\n",
    "prediction = model.predict(img_array)\n",
    "print('Prediction:', 'DR' if prediction[0] < 0.5 else 'No_DR')\n"
   ]
  },
  {
   "cell_type": "code",
   "execution_count": null,
   "id": "69dc1baf",
   "metadata": {},
   "outputs": [],
   "source": []
  }
 ],
 "metadata": {
  "kernelspec": {
   "display_name": "Python 3",
   "language": "python",
   "name": "python3"
  },
  "language_info": {
   "codemirror_mode": {
    "name": "ipython",
    "version": 3
   },
   "file_extension": ".py",
   "mimetype": "text/x-python",
   "name": "python",
   "nbconvert_exporter": "python",
   "pygments_lexer": "ipython3",
   "version": "3.8.8"
  }
 },
 "nbformat": 4,
 "nbformat_minor": 5
}
